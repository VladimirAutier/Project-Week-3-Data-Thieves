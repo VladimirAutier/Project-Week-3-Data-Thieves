{
 "cells": [
  {
   "cell_type": "code",
   "execution_count": 1,
   "metadata": {},
   "outputs": [],
   "source": [
    "#df = pd.read_csv('../data/roll_the_dice_hundred.csv')"
   ]
  },
  {
   "cell_type": "markdown",
   "metadata": {},
   "source": [
    "# Libraries"
   ]
  },
  {
   "cell_type": "code",
   "execution_count": 2,
   "metadata": {},
   "outputs": [],
   "source": [
    "import requests\n",
    "import pandas as pd\n",
    "import numpy as np\n",
    "import random\n",
    "import matplotlib.pyplot as plt"
   ]
  },
  {
   "cell_type": "markdown",
   "metadata": {},
   "source": [
    "# Functions"
   ]
  },
  {
   "cell_type": "code",
   "execution_count": 18,
   "metadata": {},
   "outputs": [],
   "source": [
    "def group_sum_crimes(df, year):\n",
    "    \"\"\"\n",
    "    Input: DataFrame, Int\n",
    "    Output: DataFrame\n",
    "    \n",
    "    # We receive a dataframe, we filter it by the year passed and we return a grouped by borough dataframe.\n",
    "    \"\"\"\n",
    "    df = df[df.year==year]\n",
    "    \n",
    "    return df.groupby('borough').sum().drop('year', axis=1)\n",
    "    \n",
    "    "
   ]
  },
  {
   "cell_type": "code",
   "execution_count": 19,
   "metadata": {},
   "outputs": [],
   "source": [
    "grouped_by = []\n",
    "for year in range(2008, 2017):\n",
    "    grouped_by.append(group_sum_crimes(df2, year))"
   ]
  },
  {
   "cell_type": "code",
   "execution_count": 20,
   "metadata": {},
   "outputs": [],
   "source": [
    "def concat_years(dfs):\n",
    "    \"\"\"\n",
    "    Input: list\n",
    "    Output: DataFrame\n",
    "    \n",
    "    # We'll receive a list of DataFrames and then concatenate them together\n",
    "    \"\"\"\n",
    "    df = pd.concat([dfs[0], dfs[1]], axis=1)\n",
    "    \n",
    "    for dataframe in dfs[2:]:\n",
    "        df = pd.concat([df, dataframe], axis=1, sort=False)\n",
    "        \n",
    "    return df\n",
    "    \n",
    "    "
   ]
  },
  {
   "cell_type": "code",
   "execution_count": 21,
   "metadata": {},
   "outputs": [],
   "source": [
    "years = concat_years(grouped_by)\n",
    "years.columns = range(2008, 2017)"
   ]
  },
  {
   "cell_type": "markdown",
   "metadata": {},
   "source": [
    "# DF containing the sum of crimes per boroughs according to the years"
   ]
  },
  {
   "cell_type": "code",
   "execution_count": 22,
   "metadata": {},
   "outputs": [
    {
     "data": {
      "text/html": [
       "<div>\n",
       "<style scoped>\n",
       "    .dataframe tbody tr th:only-of-type {\n",
       "        vertical-align: middle;\n",
       "    }\n",
       "\n",
       "    .dataframe tbody tr th {\n",
       "        vertical-align: top;\n",
       "    }\n",
       "\n",
       "    .dataframe thead th {\n",
       "        text-align: right;\n",
       "    }\n",
       "</style>\n",
       "<table border=\"1\" class=\"dataframe\">\n",
       "  <thead>\n",
       "    <tr style=\"text-align: right;\">\n",
       "      <th></th>\n",
       "      <th>2008</th>\n",
       "      <th>2009</th>\n",
       "      <th>2010</th>\n",
       "      <th>2011</th>\n",
       "      <th>2012</th>\n",
       "      <th>2013</th>\n",
       "      <th>2014</th>\n",
       "      <th>2015</th>\n",
       "      <th>2016</th>\n",
       "    </tr>\n",
       "  </thead>\n",
       "  <tbody>\n",
       "    <tr>\n",
       "      <th>Barking and Dagenham</th>\n",
       "      <td>17656.0</td>\n",
       "      <td>17713.0</td>\n",
       "      <td>17130.0</td>\n",
       "      <td>16686</td>\n",
       "      <td>15990</td>\n",
       "      <td>15759</td>\n",
       "      <td>15426</td>\n",
       "      <td>16346</td>\n",
       "      <td>16741</td>\n",
       "    </tr>\n",
       "    <tr>\n",
       "      <th>Barnet</th>\n",
       "      <td>23944.0</td>\n",
       "      <td>23449.0</td>\n",
       "      <td>23416.0</td>\n",
       "      <td>24007</td>\n",
       "      <td>23573</td>\n",
       "      <td>22510</td>\n",
       "      <td>22572</td>\n",
       "      <td>24036</td>\n",
       "      <td>24684</td>\n",
       "    </tr>\n",
       "    <tr>\n",
       "      <th>Bexley</th>\n",
       "      <td>15305.0</td>\n",
       "      <td>14445.0</td>\n",
       "      <td>13166.0</td>\n",
       "      <td>11325</td>\n",
       "      <td>11669</td>\n",
       "      <td>11552</td>\n",
       "      <td>11844</td>\n",
       "      <td>11990</td>\n",
       "      <td>12840</td>\n",
       "    </tr>\n",
       "    <tr>\n",
       "      <th>Brent</th>\n",
       "      <td>23504.0</td>\n",
       "      <td>24748.0</td>\n",
       "      <td>25512.0</td>\n",
       "      <td>27669</td>\n",
       "      <td>26357</td>\n",
       "      <td>23759</td>\n",
       "      <td>24426</td>\n",
       "      <td>24883</td>\n",
       "      <td>26693</td>\n",
       "    </tr>\n",
       "    <tr>\n",
       "      <th>Bromley</th>\n",
       "      <td>24015.0</td>\n",
       "      <td>21858.0</td>\n",
       "      <td>19572.0</td>\n",
       "      <td>19868</td>\n",
       "      <td>19622</td>\n",
       "      <td>18945</td>\n",
       "      <td>19668</td>\n",
       "      <td>20637</td>\n",
       "      <td>20164</td>\n",
       "    </tr>\n",
       "    <tr>\n",
       "      <th>Camden</th>\n",
       "      <td>32010.0</td>\n",
       "      <td>31612.0</td>\n",
       "      <td>31804.0</td>\n",
       "      <td>33956</td>\n",
       "      <td>31472</td>\n",
       "      <td>28435</td>\n",
       "      <td>27198</td>\n",
       "      <td>29477</td>\n",
       "      <td>29183</td>\n",
       "    </tr>\n",
       "    <tr>\n",
       "      <th>Croydon</th>\n",
       "      <td>29516.0</td>\n",
       "      <td>29784.0</td>\n",
       "      <td>29373.0</td>\n",
       "      <td>29830</td>\n",
       "      <td>30189</td>\n",
       "      <td>27444</td>\n",
       "      <td>27357</td>\n",
       "      <td>28089</td>\n",
       "      <td>28712</td>\n",
       "    </tr>\n",
       "    <tr>\n",
       "      <th>Ealing</th>\n",
       "      <td>28947.0</td>\n",
       "      <td>28617.0</td>\n",
       "      <td>31360.0</td>\n",
       "      <td>29537</td>\n",
       "      <td>28832</td>\n",
       "      <td>25917</td>\n",
       "      <td>24978</td>\n",
       "      <td>26247</td>\n",
       "      <td>27127</td>\n",
       "    </tr>\n",
       "    <tr>\n",
       "      <th>Enfield</th>\n",
       "      <td>21980.0</td>\n",
       "      <td>21147.0</td>\n",
       "      <td>20808.0</td>\n",
       "      <td>21041</td>\n",
       "      <td>21069</td>\n",
       "      <td>21574</td>\n",
       "      <td>21700</td>\n",
       "      <td>22076</td>\n",
       "      <td>22485</td>\n",
       "    </tr>\n",
       "    <tr>\n",
       "      <th>Greenwich</th>\n",
       "      <td>22010.0</td>\n",
       "      <td>19851.0</td>\n",
       "      <td>18626.0</td>\n",
       "      <td>18552</td>\n",
       "      <td>20028</td>\n",
       "      <td>18948</td>\n",
       "      <td>19894</td>\n",
       "      <td>20929</td>\n",
       "      <td>22730</td>\n",
       "    </tr>\n",
       "    <tr>\n",
       "      <th>Hackney</th>\n",
       "      <td>22004.0</td>\n",
       "      <td>20718.0</td>\n",
       "      <td>20175.0</td>\n",
       "      <td>21395</td>\n",
       "      <td>27095</td>\n",
       "      <td>25633</td>\n",
       "      <td>24893</td>\n",
       "      <td>26941</td>\n",
       "      <td>28265</td>\n",
       "    </tr>\n",
       "    <tr>\n",
       "      <th>Hammersmith and Fulham</th>\n",
       "      <td>21114.0</td>\n",
       "      <td>21211.0</td>\n",
       "      <td>21941.0</td>\n",
       "      <td>22151</td>\n",
       "      <td>21030</td>\n",
       "      <td>18605</td>\n",
       "      <td>19185</td>\n",
       "      <td>19848</td>\n",
       "      <td>20174</td>\n",
       "    </tr>\n",
       "    <tr>\n",
       "      <th>Haringey</th>\n",
       "      <td>25724.0</td>\n",
       "      <td>23704.0</td>\n",
       "      <td>22156.0</td>\n",
       "      <td>23179</td>\n",
       "      <td>23231</td>\n",
       "      <td>20705</td>\n",
       "      <td>22773</td>\n",
       "      <td>24626</td>\n",
       "      <td>27174</td>\n",
       "    </tr>\n",
       "    <tr>\n",
       "      <th>Harrow</th>\n",
       "      <td>13774.0</td>\n",
       "      <td>13948.0</td>\n",
       "      <td>13945.0</td>\n",
       "      <td>12801</td>\n",
       "      <td>12803</td>\n",
       "      <td>11914</td>\n",
       "      <td>11909</td>\n",
       "      <td>12601</td>\n",
       "      <td>13153</td>\n",
       "    </tr>\n",
       "    <tr>\n",
       "      <th>Havering</th>\n",
       "      <td>15395.0</td>\n",
       "      <td>14538.0</td>\n",
       "      <td>14957.0</td>\n",
       "      <td>15496</td>\n",
       "      <td>15965</td>\n",
       "      <td>15089</td>\n",
       "      <td>14734</td>\n",
       "      <td>15870</td>\n",
       "      <td>16903</td>\n",
       "    </tr>\n",
       "    <tr>\n",
       "      <th>Hillingdon</th>\n",
       "      <td>24318.0</td>\n",
       "      <td>24605.0</td>\n",
       "      <td>23421.0</td>\n",
       "      <td>24282</td>\n",
       "      <td>22103</td>\n",
       "      <td>20248</td>\n",
       "      <td>23128</td>\n",
       "      <td>23234</td>\n",
       "      <td>24341</td>\n",
       "    </tr>\n",
       "    <tr>\n",
       "      <th>Hounslow</th>\n",
       "      <td>20204.0</td>\n",
       "      <td>19783.0</td>\n",
       "      <td>19665.0</td>\n",
       "      <td>21105</td>\n",
       "      <td>22724</td>\n",
       "      <td>19749</td>\n",
       "      <td>20005</td>\n",
       "      <td>21286</td>\n",
       "      <td>22251</td>\n",
       "    </tr>\n",
       "    <tr>\n",
       "      <th>Islington</th>\n",
       "      <td>26273.0</td>\n",
       "      <td>25485.0</td>\n",
       "      <td>24693.0</td>\n",
       "      <td>24980</td>\n",
       "      <td>26268</td>\n",
       "      <td>23784</td>\n",
       "      <td>24679</td>\n",
       "      <td>27032</td>\n",
       "      <td>27092</td>\n",
       "    </tr>\n",
       "    <tr>\n",
       "      <th>Kensington and Chelsea</th>\n",
       "      <td>20663.0</td>\n",
       "      <td>18742.0</td>\n",
       "      <td>19481.0</td>\n",
       "      <td>19146</td>\n",
       "      <td>19757</td>\n",
       "      <td>17702</td>\n",
       "      <td>17840</td>\n",
       "      <td>19070</td>\n",
       "      <td>19580</td>\n",
       "    </tr>\n",
       "    <tr>\n",
       "      <th>Kingston upon Thames</th>\n",
       "      <td>10661.0</td>\n",
       "      <td>10163.0</td>\n",
       "      <td>10171.0</td>\n",
       "      <td>10155</td>\n",
       "      <td>9956</td>\n",
       "      <td>9191</td>\n",
       "      <td>9288</td>\n",
       "      <td>9738</td>\n",
       "      <td>9983</td>\n",
       "    </tr>\n",
       "    <tr>\n",
       "      <th>Lambeth</th>\n",
       "      <td>31717.0</td>\n",
       "      <td>31225.0</td>\n",
       "      <td>31671.0</td>\n",
       "      <td>33224</td>\n",
       "      <td>33473</td>\n",
       "      <td>31868</td>\n",
       "      <td>31765</td>\n",
       "      <td>33164</td>\n",
       "      <td>34071</td>\n",
       "    </tr>\n",
       "    <tr>\n",
       "      <th>Lewisham</th>\n",
       "      <td>27054.0</td>\n",
       "      <td>25182.0</td>\n",
       "      <td>24532.0</td>\n",
       "      <td>24201</td>\n",
       "      <td>23652</td>\n",
       "      <td>22074</td>\n",
       "      <td>21101</td>\n",
       "      <td>23437</td>\n",
       "      <td>23904</td>\n",
       "    </tr>\n",
       "    <tr>\n",
       "      <th>Merton</th>\n",
       "      <td>13875.0</td>\n",
       "      <td>13561.0</td>\n",
       "      <td>13595.0</td>\n",
       "      <td>13548</td>\n",
       "      <td>12856</td>\n",
       "      <td>11595</td>\n",
       "      <td>11596</td>\n",
       "      <td>12273</td>\n",
       "      <td>12755</td>\n",
       "    </tr>\n",
       "    <tr>\n",
       "      <th>Newham</th>\n",
       "      <td>29752.0</td>\n",
       "      <td>28610.0</td>\n",
       "      <td>30728.0</td>\n",
       "      <td>27978</td>\n",
       "      <td>30067</td>\n",
       "      <td>27577</td>\n",
       "      <td>28005</td>\n",
       "      <td>29217</td>\n",
       "      <td>30090</td>\n",
       "    </tr>\n",
       "    <tr>\n",
       "      <th>Redbridge</th>\n",
       "      <td>20873.0</td>\n",
       "      <td>20837.0</td>\n",
       "      <td>20652.0</td>\n",
       "      <td>21994</td>\n",
       "      <td>21424</td>\n",
       "      <td>19793</td>\n",
       "      <td>19590</td>\n",
       "      <td>18897</td>\n",
       "      <td>19502</td>\n",
       "    </tr>\n",
       "    <tr>\n",
       "      <th>Richmond upon Thames</th>\n",
       "      <td>11106.0</td>\n",
       "      <td>10618.0</td>\n",
       "      <td>10601.0</td>\n",
       "      <td>10896</td>\n",
       "      <td>11168</td>\n",
       "      <td>10439</td>\n",
       "      <td>10456</td>\n",
       "      <td>10413</td>\n",
       "      <td>11074</td>\n",
       "    </tr>\n",
       "    <tr>\n",
       "      <th>Southwark</th>\n",
       "      <td>33470.0</td>\n",
       "      <td>30623.0</td>\n",
       "      <td>31320.0</td>\n",
       "      <td>30723</td>\n",
       "      <td>30737</td>\n",
       "      <td>31128</td>\n",
       "      <td>28912</td>\n",
       "      <td>30260</td>\n",
       "      <td>31636</td>\n",
       "    </tr>\n",
       "    <tr>\n",
       "      <th>Sutton</th>\n",
       "      <td>12943.0</td>\n",
       "      <td>12240.0</td>\n",
       "      <td>12032.0</td>\n",
       "      <td>11068</td>\n",
       "      <td>10948</td>\n",
       "      <td>10057</td>\n",
       "      <td>10443</td>\n",
       "      <td>10598</td>\n",
       "      <td>10658</td>\n",
       "    </tr>\n",
       "    <tr>\n",
       "      <th>Tower Hamlets</th>\n",
       "      <td>23578.0</td>\n",
       "      <td>21959.0</td>\n",
       "      <td>23072.0</td>\n",
       "      <td>24712</td>\n",
       "      <td>26784</td>\n",
       "      <td>26258</td>\n",
       "      <td>25504</td>\n",
       "      <td>27493</td>\n",
       "      <td>29253</td>\n",
       "    </tr>\n",
       "    <tr>\n",
       "      <th>Waltham Forest</th>\n",
       "      <td>24080.0</td>\n",
       "      <td>24761.0</td>\n",
       "      <td>24818.0</td>\n",
       "      <td>23714</td>\n",
       "      <td>22647</td>\n",
       "      <td>21903</td>\n",
       "      <td>20271</td>\n",
       "      <td>20969</td>\n",
       "      <td>20716</td>\n",
       "    </tr>\n",
       "    <tr>\n",
       "      <th>Wandsworth</th>\n",
       "      <td>23330.0</td>\n",
       "      <td>23021.0</td>\n",
       "      <td>22815.0</td>\n",
       "      <td>21384</td>\n",
       "      <td>24457</td>\n",
       "      <td>22290</td>\n",
       "      <td>21364</td>\n",
       "      <td>22401</td>\n",
       "      <td>23679</td>\n",
       "    </tr>\n",
       "    <tr>\n",
       "      <th>Westminster</th>\n",
       "      <td>47846.0</td>\n",
       "      <td>48456.0</td>\n",
       "      <td>48116.0</td>\n",
       "      <td>54243</td>\n",
       "      <td>59226</td>\n",
       "      <td>53852</td>\n",
       "      <td>47564</td>\n",
       "      <td>47395</td>\n",
       "      <td>48330</td>\n",
       "    </tr>\n",
       "    <tr>\n",
       "      <th>City of London</th>\n",
       "      <td>NaN</td>\n",
       "      <td>NaN</td>\n",
       "      <td>NaN</td>\n",
       "      <td>69</td>\n",
       "      <td>157</td>\n",
       "      <td>110</td>\n",
       "      <td>115</td>\n",
       "      <td>151</td>\n",
       "      <td>178</td>\n",
       "    </tr>\n",
       "  </tbody>\n",
       "</table>\n",
       "</div>"
      ],
      "text/plain": [
       "                           2008     2009     2010   2011   2012   2013   2014  \\\n",
       "Barking and Dagenham    17656.0  17713.0  17130.0  16686  15990  15759  15426   \n",
       "Barnet                  23944.0  23449.0  23416.0  24007  23573  22510  22572   \n",
       "Bexley                  15305.0  14445.0  13166.0  11325  11669  11552  11844   \n",
       "Brent                   23504.0  24748.0  25512.0  27669  26357  23759  24426   \n",
       "Bromley                 24015.0  21858.0  19572.0  19868  19622  18945  19668   \n",
       "Camden                  32010.0  31612.0  31804.0  33956  31472  28435  27198   \n",
       "Croydon                 29516.0  29784.0  29373.0  29830  30189  27444  27357   \n",
       "Ealing                  28947.0  28617.0  31360.0  29537  28832  25917  24978   \n",
       "Enfield                 21980.0  21147.0  20808.0  21041  21069  21574  21700   \n",
       "Greenwich               22010.0  19851.0  18626.0  18552  20028  18948  19894   \n",
       "Hackney                 22004.0  20718.0  20175.0  21395  27095  25633  24893   \n",
       "Hammersmith and Fulham  21114.0  21211.0  21941.0  22151  21030  18605  19185   \n",
       "Haringey                25724.0  23704.0  22156.0  23179  23231  20705  22773   \n",
       "Harrow                  13774.0  13948.0  13945.0  12801  12803  11914  11909   \n",
       "Havering                15395.0  14538.0  14957.0  15496  15965  15089  14734   \n",
       "Hillingdon              24318.0  24605.0  23421.0  24282  22103  20248  23128   \n",
       "Hounslow                20204.0  19783.0  19665.0  21105  22724  19749  20005   \n",
       "Islington               26273.0  25485.0  24693.0  24980  26268  23784  24679   \n",
       "Kensington and Chelsea  20663.0  18742.0  19481.0  19146  19757  17702  17840   \n",
       "Kingston upon Thames    10661.0  10163.0  10171.0  10155   9956   9191   9288   \n",
       "Lambeth                 31717.0  31225.0  31671.0  33224  33473  31868  31765   \n",
       "Lewisham                27054.0  25182.0  24532.0  24201  23652  22074  21101   \n",
       "Merton                  13875.0  13561.0  13595.0  13548  12856  11595  11596   \n",
       "Newham                  29752.0  28610.0  30728.0  27978  30067  27577  28005   \n",
       "Redbridge               20873.0  20837.0  20652.0  21994  21424  19793  19590   \n",
       "Richmond upon Thames    11106.0  10618.0  10601.0  10896  11168  10439  10456   \n",
       "Southwark               33470.0  30623.0  31320.0  30723  30737  31128  28912   \n",
       "Sutton                  12943.0  12240.0  12032.0  11068  10948  10057  10443   \n",
       "Tower Hamlets           23578.0  21959.0  23072.0  24712  26784  26258  25504   \n",
       "Waltham Forest          24080.0  24761.0  24818.0  23714  22647  21903  20271   \n",
       "Wandsworth              23330.0  23021.0  22815.0  21384  24457  22290  21364   \n",
       "Westminster             47846.0  48456.0  48116.0  54243  59226  53852  47564   \n",
       "City of London              NaN      NaN      NaN     69    157    110    115   \n",
       "\n",
       "                         2015   2016  \n",
       "Barking and Dagenham    16346  16741  \n",
       "Barnet                  24036  24684  \n",
       "Bexley                  11990  12840  \n",
       "Brent                   24883  26693  \n",
       "Bromley                 20637  20164  \n",
       "Camden                  29477  29183  \n",
       "Croydon                 28089  28712  \n",
       "Ealing                  26247  27127  \n",
       "Enfield                 22076  22485  \n",
       "Greenwich               20929  22730  \n",
       "Hackney                 26941  28265  \n",
       "Hammersmith and Fulham  19848  20174  \n",
       "Haringey                24626  27174  \n",
       "Harrow                  12601  13153  \n",
       "Havering                15870  16903  \n",
       "Hillingdon              23234  24341  \n",
       "Hounslow                21286  22251  \n",
       "Islington               27032  27092  \n",
       "Kensington and Chelsea  19070  19580  \n",
       "Kingston upon Thames     9738   9983  \n",
       "Lambeth                 33164  34071  \n",
       "Lewisham                23437  23904  \n",
       "Merton                  12273  12755  \n",
       "Newham                  29217  30090  \n",
       "Redbridge               18897  19502  \n",
       "Richmond upon Thames    10413  11074  \n",
       "Southwark               30260  31636  \n",
       "Sutton                  10598  10658  \n",
       "Tower Hamlets           27493  29253  \n",
       "Waltham Forest          20969  20716  \n",
       "Wandsworth              22401  23679  \n",
       "Westminster             47395  48330  \n",
       "City of London            151    178  "
      ]
     },
     "execution_count": 22,
     "metadata": {},
     "output_type": "execute_result"
    }
   ],
   "source": [
    "years"
   ]
  },
  {
   "cell_type": "markdown",
   "metadata": {},
   "source": [
    "# Some Info"
   ]
  },
  {
   "cell_type": "code",
   "execution_count": 5,
   "metadata": {},
   "outputs": [],
   "source": [
    "df = pd.read_csv('../Week4/london_crime_by_lsoa.csv')# overall DF"
   ]
  },
  {
   "cell_type": "code",
   "execution_count": 6,
   "metadata": {},
   "outputs": [
    {
     "data": {
      "text/html": [
       "<div>\n",
       "<style scoped>\n",
       "    .dataframe tbody tr th:only-of-type {\n",
       "        vertical-align: middle;\n",
       "    }\n",
       "\n",
       "    .dataframe tbody tr th {\n",
       "        vertical-align: top;\n",
       "    }\n",
       "\n",
       "    .dataframe thead th {\n",
       "        text-align: right;\n",
       "    }\n",
       "</style>\n",
       "<table border=\"1\" class=\"dataframe\">\n",
       "  <thead>\n",
       "    <tr style=\"text-align: right;\">\n",
       "      <th></th>\n",
       "      <th>lsoa_code</th>\n",
       "      <th>borough</th>\n",
       "      <th>major_category</th>\n",
       "      <th>minor_category</th>\n",
       "      <th>value</th>\n",
       "      <th>year</th>\n",
       "      <th>month</th>\n",
       "    </tr>\n",
       "  </thead>\n",
       "  <tbody>\n",
       "    <tr>\n",
       "      <th>0</th>\n",
       "      <td>E01001116</td>\n",
       "      <td>Croydon</td>\n",
       "      <td>Burglary</td>\n",
       "      <td>Burglary in Other Buildings</td>\n",
       "      <td>0</td>\n",
       "      <td>2016</td>\n",
       "      <td>11</td>\n",
       "    </tr>\n",
       "    <tr>\n",
       "      <th>1</th>\n",
       "      <td>E01001646</td>\n",
       "      <td>Greenwich</td>\n",
       "      <td>Violence Against the Person</td>\n",
       "      <td>Other violence</td>\n",
       "      <td>0</td>\n",
       "      <td>2016</td>\n",
       "      <td>11</td>\n",
       "    </tr>\n",
       "    <tr>\n",
       "      <th>2</th>\n",
       "      <td>E01000677</td>\n",
       "      <td>Bromley</td>\n",
       "      <td>Violence Against the Person</td>\n",
       "      <td>Other violence</td>\n",
       "      <td>0</td>\n",
       "      <td>2015</td>\n",
       "      <td>5</td>\n",
       "    </tr>\n",
       "    <tr>\n",
       "      <th>3</th>\n",
       "      <td>E01003774</td>\n",
       "      <td>Redbridge</td>\n",
       "      <td>Burglary</td>\n",
       "      <td>Burglary in Other Buildings</td>\n",
       "      <td>0</td>\n",
       "      <td>2016</td>\n",
       "      <td>3</td>\n",
       "    </tr>\n",
       "    <tr>\n",
       "      <th>4</th>\n",
       "      <td>E01004563</td>\n",
       "      <td>Wandsworth</td>\n",
       "      <td>Robbery</td>\n",
       "      <td>Personal Property</td>\n",
       "      <td>0</td>\n",
       "      <td>2008</td>\n",
       "      <td>6</td>\n",
       "    </tr>\n",
       "  </tbody>\n",
       "</table>\n",
       "</div>"
      ],
      "text/plain": [
       "   lsoa_code     borough               major_category  \\\n",
       "0  E01001116     Croydon                     Burglary   \n",
       "1  E01001646   Greenwich  Violence Against the Person   \n",
       "2  E01000677     Bromley  Violence Against the Person   \n",
       "3  E01003774   Redbridge                     Burglary   \n",
       "4  E01004563  Wandsworth                      Robbery   \n",
       "\n",
       "                minor_category  value  year  month  \n",
       "0  Burglary in Other Buildings      0  2016     11  \n",
       "1               Other violence      0  2016     11  \n",
       "2               Other violence      0  2015      5  \n",
       "3  Burglary in Other Buildings      0  2016      3  \n",
       "4            Personal Property      0  2008      6  "
      ]
     },
     "execution_count": 6,
     "metadata": {},
     "output_type": "execute_result"
    }
   ],
   "source": [
    "df.head()"
   ]
  },
  {
   "cell_type": "markdown",
   "metadata": {},
   "source": [
    "We have the dataframe for the major crimes in London from 2008-2016 listed in different Borroughs\n"
   ]
  },
  {
   "cell_type": "code",
   "execution_count": 7,
   "metadata": {},
   "outputs": [
    {
     "name": "stdout",
     "output_type": "stream",
     "text": [
      "<class 'pandas.core.frame.DataFrame'>\n",
      "RangeIndex: 13490604 entries, 0 to 13490603\n",
      "Data columns (total 7 columns):\n",
      "lsoa_code         object\n",
      "borough           object\n",
      "major_category    object\n",
      "minor_category    object\n",
      "value             int64\n",
      "year              int64\n",
      "month             int64\n",
      "dtypes: int64(3), object(4)\n",
      "memory usage: 720.5+ MB\n",
      "None\n"
     ]
    }
   ],
   "source": [
    "#Looking at the different types of elements in our DF\n",
    "print(df.info())"
   ]
  },
  {
   "cell_type": "code",
   "execution_count": 8,
   "metadata": {},
   "outputs": [],
   "source": [
    "#df['year'].unique()\n",
    "df1 = df.sort_values('year')"
   ]
  },
  {
   "cell_type": "code",
   "execution_count": 9,
   "metadata": {},
   "outputs": [
    {
     "data": {
      "text/html": [
       "<div>\n",
       "<style scoped>\n",
       "    .dataframe tbody tr th:only-of-type {\n",
       "        vertical-align: middle;\n",
       "    }\n",
       "\n",
       "    .dataframe tbody tr th {\n",
       "        vertical-align: top;\n",
       "    }\n",
       "\n",
       "    .dataframe thead th {\n",
       "        text-align: right;\n",
       "    }\n",
       "</style>\n",
       "<table border=\"1\" class=\"dataframe\">\n",
       "  <thead>\n",
       "    <tr style=\"text-align: right;\">\n",
       "      <th></th>\n",
       "      <th>lsoa_code</th>\n",
       "      <th>borough</th>\n",
       "      <th>major_category</th>\n",
       "      <th>minor_category</th>\n",
       "      <th>value</th>\n",
       "      <th>year</th>\n",
       "      <th>month</th>\n",
       "    </tr>\n",
       "  </thead>\n",
       "  <tbody>\n",
       "    <tr>\n",
       "      <th>12504370</th>\n",
       "      <td>E01001255</td>\n",
       "      <td>Ealing</td>\n",
       "      <td>Violence Against the Person</td>\n",
       "      <td>Assault with Injury</td>\n",
       "      <td>0</td>\n",
       "      <td>2008</td>\n",
       "      <td>6</td>\n",
       "    </tr>\n",
       "    <tr>\n",
       "      <th>5807276</th>\n",
       "      <td>E01002790</td>\n",
       "      <td>Islington</td>\n",
       "      <td>Violence Against the Person</td>\n",
       "      <td>Harassment</td>\n",
       "      <td>0</td>\n",
       "      <td>2008</td>\n",
       "      <td>2</td>\n",
       "    </tr>\n",
       "    <tr>\n",
       "      <th>5807272</th>\n",
       "      <td>E01003634</td>\n",
       "      <td>Newham</td>\n",
       "      <td>Burglary</td>\n",
       "      <td>Burglary in Other Buildings</td>\n",
       "      <td>0</td>\n",
       "      <td>2008</td>\n",
       "      <td>9</td>\n",
       "    </tr>\n",
       "    <tr>\n",
       "      <th>8512153</th>\n",
       "      <td>E01033698</td>\n",
       "      <td>Hackney</td>\n",
       "      <td>Theft and Handling</td>\n",
       "      <td>Motor Vehicle Interference &amp; Tampering</td>\n",
       "      <td>0</td>\n",
       "      <td>2008</td>\n",
       "      <td>8</td>\n",
       "    </tr>\n",
       "    <tr>\n",
       "      <th>5807264</th>\n",
       "      <td>E01004565</td>\n",
       "      <td>Wandsworth</td>\n",
       "      <td>Drugs</td>\n",
       "      <td>Possession Of Drugs</td>\n",
       "      <td>0</td>\n",
       "      <td>2008</td>\n",
       "      <td>3</td>\n",
       "    </tr>\n",
       "  </tbody>\n",
       "</table>\n",
       "</div>"
      ],
      "text/plain": [
       "          lsoa_code     borough               major_category  \\\n",
       "12504370  E01001255      Ealing  Violence Against the Person   \n",
       "5807276   E01002790   Islington  Violence Against the Person   \n",
       "5807272   E01003634      Newham                     Burglary   \n",
       "8512153   E01033698     Hackney           Theft and Handling   \n",
       "5807264   E01004565  Wandsworth                        Drugs   \n",
       "\n",
       "                                  minor_category  value  year  month  \n",
       "12504370                     Assault with Injury      0  2008      6  \n",
       "5807276                               Harassment      0  2008      2  \n",
       "5807272              Burglary in Other Buildings      0  2008      9  \n",
       "8512153   Motor Vehicle Interference & Tampering      0  2008      8  \n",
       "5807264                      Possession Of Drugs      0  2008      3  "
      ]
     },
     "execution_count": 9,
     "metadata": {},
     "output_type": "execute_result"
    }
   ],
   "source": [
    "df1.head()#ordering the years"
   ]
  },
  {
   "cell_type": "code",
   "execution_count": 10,
   "metadata": {},
   "outputs": [
    {
     "data": {
      "text/plain": [
       "array([2008, 2009, 2010, 2011, 2012, 2013, 2014, 2015, 2016])"
      ]
     },
     "execution_count": 10,
     "metadata": {},
     "output_type": "execute_result"
    }
   ],
   "source": [
    "df1['year'].unique()"
   ]
  },
  {
   "cell_type": "code",
   "execution_count": 11,
   "metadata": {},
   "outputs": [],
   "source": [
    "dict= {1:'January',2:'February',3:\"March\",4:'April',5:'May',6:'June',7:'July',8:'August',9:'September',10:'October',11:'November',12:'December'}\n",
    "df1['month'].replace(dict,inplace=True)"
   ]
  },
  {
   "cell_type": "code",
   "execution_count": 12,
   "metadata": {},
   "outputs": [
    {
     "data": {
      "text/html": [
       "<div>\n",
       "<style scoped>\n",
       "    .dataframe tbody tr th:only-of-type {\n",
       "        vertical-align: middle;\n",
       "    }\n",
       "\n",
       "    .dataframe tbody tr th {\n",
       "        vertical-align: top;\n",
       "    }\n",
       "\n",
       "    .dataframe thead th {\n",
       "        text-align: right;\n",
       "    }\n",
       "</style>\n",
       "<table border=\"1\" class=\"dataframe\">\n",
       "  <thead>\n",
       "    <tr style=\"text-align: right;\">\n",
       "      <th></th>\n",
       "      <th>lsoa_code</th>\n",
       "      <th>borough</th>\n",
       "      <th>major_category</th>\n",
       "      <th>minor_category</th>\n",
       "      <th>value</th>\n",
       "      <th>year</th>\n",
       "      <th>month</th>\n",
       "    </tr>\n",
       "  </thead>\n",
       "  <tbody>\n",
       "    <tr>\n",
       "      <th>12504370</th>\n",
       "      <td>E01001255</td>\n",
       "      <td>Ealing</td>\n",
       "      <td>Violence Against the Person</td>\n",
       "      <td>Assault with Injury</td>\n",
       "      <td>0</td>\n",
       "      <td>2008</td>\n",
       "      <td>June</td>\n",
       "    </tr>\n",
       "    <tr>\n",
       "      <th>5807276</th>\n",
       "      <td>E01002790</td>\n",
       "      <td>Islington</td>\n",
       "      <td>Violence Against the Person</td>\n",
       "      <td>Harassment</td>\n",
       "      <td>0</td>\n",
       "      <td>2008</td>\n",
       "      <td>February</td>\n",
       "    </tr>\n",
       "    <tr>\n",
       "      <th>5807272</th>\n",
       "      <td>E01003634</td>\n",
       "      <td>Newham</td>\n",
       "      <td>Burglary</td>\n",
       "      <td>Burglary in Other Buildings</td>\n",
       "      <td>0</td>\n",
       "      <td>2008</td>\n",
       "      <td>September</td>\n",
       "    </tr>\n",
       "    <tr>\n",
       "      <th>8512153</th>\n",
       "      <td>E01033698</td>\n",
       "      <td>Hackney</td>\n",
       "      <td>Theft and Handling</td>\n",
       "      <td>Motor Vehicle Interference &amp; Tampering</td>\n",
       "      <td>0</td>\n",
       "      <td>2008</td>\n",
       "      <td>August</td>\n",
       "    </tr>\n",
       "    <tr>\n",
       "      <th>5807264</th>\n",
       "      <td>E01004565</td>\n",
       "      <td>Wandsworth</td>\n",
       "      <td>Drugs</td>\n",
       "      <td>Possession Of Drugs</td>\n",
       "      <td>0</td>\n",
       "      <td>2008</td>\n",
       "      <td>March</td>\n",
       "    </tr>\n",
       "  </tbody>\n",
       "</table>\n",
       "</div>"
      ],
      "text/plain": [
       "          lsoa_code     borough               major_category  \\\n",
       "12504370  E01001255      Ealing  Violence Against the Person   \n",
       "5807276   E01002790   Islington  Violence Against the Person   \n",
       "5807272   E01003634      Newham                     Burglary   \n",
       "8512153   E01033698     Hackney           Theft and Handling   \n",
       "5807264   E01004565  Wandsworth                        Drugs   \n",
       "\n",
       "                                  minor_category  value  year      month  \n",
       "12504370                     Assault with Injury      0  2008       June  \n",
       "5807276                               Harassment      0  2008   February  \n",
       "5807272              Burglary in Other Buildings      0  2008  September  \n",
       "8512153   Motor Vehicle Interference & Tampering      0  2008     August  \n",
       "5807264                      Possession Of Drugs      0  2008      March  "
      ]
     },
     "execution_count": 12,
     "metadata": {},
     "output_type": "execute_result"
    }
   ],
   "source": [
    "df1.head()"
   ]
  },
  {
   "cell_type": "code",
   "execution_count": 13,
   "metadata": {},
   "outputs": [],
   "source": [
    "df1.drop(['lsoa_code'],axis=1,inplace=True) #dropping the lsoa_code"
   ]
  },
  {
   "cell_type": "code",
   "execution_count": 14,
   "metadata": {},
   "outputs": [
    {
     "data": {
      "text/html": [
       "<div>\n",
       "<style scoped>\n",
       "    .dataframe tbody tr th:only-of-type {\n",
       "        vertical-align: middle;\n",
       "    }\n",
       "\n",
       "    .dataframe tbody tr th {\n",
       "        vertical-align: top;\n",
       "    }\n",
       "\n",
       "    .dataframe thead th {\n",
       "        text-align: right;\n",
       "    }\n",
       "</style>\n",
       "<table border=\"1\" class=\"dataframe\">\n",
       "  <thead>\n",
       "    <tr style=\"text-align: right;\">\n",
       "      <th></th>\n",
       "      <th>borough</th>\n",
       "      <th>major_category</th>\n",
       "      <th>minor_category</th>\n",
       "      <th>value</th>\n",
       "      <th>year</th>\n",
       "      <th>month</th>\n",
       "    </tr>\n",
       "  </thead>\n",
       "  <tbody>\n",
       "    <tr>\n",
       "      <th>12504370</th>\n",
       "      <td>Ealing</td>\n",
       "      <td>Violence Against the Person</td>\n",
       "      <td>Assault with Injury</td>\n",
       "      <td>0</td>\n",
       "      <td>2008</td>\n",
       "      <td>June</td>\n",
       "    </tr>\n",
       "    <tr>\n",
       "      <th>5807276</th>\n",
       "      <td>Islington</td>\n",
       "      <td>Violence Against the Person</td>\n",
       "      <td>Harassment</td>\n",
       "      <td>0</td>\n",
       "      <td>2008</td>\n",
       "      <td>February</td>\n",
       "    </tr>\n",
       "    <tr>\n",
       "      <th>5807272</th>\n",
       "      <td>Newham</td>\n",
       "      <td>Burglary</td>\n",
       "      <td>Burglary in Other Buildings</td>\n",
       "      <td>0</td>\n",
       "      <td>2008</td>\n",
       "      <td>September</td>\n",
       "    </tr>\n",
       "    <tr>\n",
       "      <th>8512153</th>\n",
       "      <td>Hackney</td>\n",
       "      <td>Theft and Handling</td>\n",
       "      <td>Motor Vehicle Interference &amp; Tampering</td>\n",
       "      <td>0</td>\n",
       "      <td>2008</td>\n",
       "      <td>August</td>\n",
       "    </tr>\n",
       "    <tr>\n",
       "      <th>5807264</th>\n",
       "      <td>Wandsworth</td>\n",
       "      <td>Drugs</td>\n",
       "      <td>Possession Of Drugs</td>\n",
       "      <td>0</td>\n",
       "      <td>2008</td>\n",
       "      <td>March</td>\n",
       "    </tr>\n",
       "  </tbody>\n",
       "</table>\n",
       "</div>"
      ],
      "text/plain": [
       "             borough               major_category  \\\n",
       "12504370      Ealing  Violence Against the Person   \n",
       "5807276    Islington  Violence Against the Person   \n",
       "5807272       Newham                     Burglary   \n",
       "8512153      Hackney           Theft and Handling   \n",
       "5807264   Wandsworth                        Drugs   \n",
       "\n",
       "                                  minor_category  value  year      month  \n",
       "12504370                     Assault with Injury      0  2008       June  \n",
       "5807276                               Harassment      0  2008   February  \n",
       "5807272              Burglary in Other Buildings      0  2008  September  \n",
       "8512153   Motor Vehicle Interference & Tampering      0  2008     August  \n",
       "5807264                      Possession Of Drugs      0  2008      March  "
      ]
     },
     "execution_count": 14,
     "metadata": {},
     "output_type": "execute_result"
    }
   ],
   "source": [
    "df1.head()"
   ]
  },
  {
   "cell_type": "code",
   "execution_count": 15,
   "metadata": {},
   "outputs": [],
   "source": [
    "df2 = df1[df1.value!=0]# erasing the 0 value in column=value and calling it df2"
   ]
  },
  {
   "cell_type": "code",
   "execution_count": 16,
   "metadata": {},
   "outputs": [
    {
     "data": {
      "text/html": [
       "<div>\n",
       "<style scoped>\n",
       "    .dataframe tbody tr th:only-of-type {\n",
       "        vertical-align: middle;\n",
       "    }\n",
       "\n",
       "    .dataframe tbody tr th {\n",
       "        vertical-align: top;\n",
       "    }\n",
       "\n",
       "    .dataframe thead th {\n",
       "        text-align: right;\n",
       "    }\n",
       "</style>\n",
       "<table border=\"1\" class=\"dataframe\">\n",
       "  <thead>\n",
       "    <tr style=\"text-align: right;\">\n",
       "      <th></th>\n",
       "      <th>borough</th>\n",
       "      <th>major_category</th>\n",
       "      <th>minor_category</th>\n",
       "      <th>value</th>\n",
       "      <th>year</th>\n",
       "      <th>month</th>\n",
       "    </tr>\n",
       "  </thead>\n",
       "  <tbody>\n",
       "    <tr>\n",
       "      <th>1315511</th>\n",
       "      <td>Tower Hamlets</td>\n",
       "      <td>Violence Against the Person</td>\n",
       "      <td>Common Assault</td>\n",
       "      <td>2</td>\n",
       "      <td>2008</td>\n",
       "      <td>September</td>\n",
       "    </tr>\n",
       "    <tr>\n",
       "      <th>2874646</th>\n",
       "      <td>Southwark</td>\n",
       "      <td>Robbery</td>\n",
       "      <td>Business Property</td>\n",
       "      <td>1</td>\n",
       "      <td>2008</td>\n",
       "      <td>July</td>\n",
       "    </tr>\n",
       "    <tr>\n",
       "      <th>8512166</th>\n",
       "      <td>Camden</td>\n",
       "      <td>Criminal Damage</td>\n",
       "      <td>Other Criminal Damage</td>\n",
       "      <td>1</td>\n",
       "      <td>2008</td>\n",
       "      <td>September</td>\n",
       "    </tr>\n",
       "    <tr>\n",
       "      <th>8512169</th>\n",
       "      <td>Hounslow</td>\n",
       "      <td>Drugs</td>\n",
       "      <td>Possession Of Drugs</td>\n",
       "      <td>2</td>\n",
       "      <td>2008</td>\n",
       "      <td>September</td>\n",
       "    </tr>\n",
       "    <tr>\n",
       "      <th>5807242</th>\n",
       "      <td>Kingston upon Thames</td>\n",
       "      <td>Theft and Handling</td>\n",
       "      <td>Other Theft</td>\n",
       "      <td>2</td>\n",
       "      <td>2008</td>\n",
       "      <td>November</td>\n",
       "    </tr>\n",
       "  </tbody>\n",
       "</table>\n",
       "</div>"
      ],
      "text/plain": [
       "                      borough               major_category  \\\n",
       "1315511         Tower Hamlets  Violence Against the Person   \n",
       "2874646             Southwark                      Robbery   \n",
       "8512166                Camden              Criminal Damage   \n",
       "8512169              Hounslow                        Drugs   \n",
       "5807242  Kingston upon Thames           Theft and Handling   \n",
       "\n",
       "                minor_category  value  year      month  \n",
       "1315511         Common Assault      2  2008  September  \n",
       "2874646      Business Property      1  2008       July  \n",
       "8512166  Other Criminal Damage      1  2008  September  \n",
       "8512169    Possession Of Drugs      2  2008  September  \n",
       "5807242            Other Theft      2  2008   November  "
      ]
     },
     "execution_count": 16,
     "metadata": {},
     "output_type": "execute_result"
    }
   ],
   "source": [
    "df2.head()"
   ]
  },
  {
   "cell_type": "code",
   "execution_count": 17,
   "metadata": {},
   "outputs": [
    {
     "data": {
      "text/html": [
       "<div>\n",
       "<style scoped>\n",
       "    .dataframe tbody tr th:only-of-type {\n",
       "        vertical-align: middle;\n",
       "    }\n",
       "\n",
       "    .dataframe tbody tr th {\n",
       "        vertical-align: top;\n",
       "    }\n",
       "\n",
       "    .dataframe thead th {\n",
       "        text-align: right;\n",
       "    }\n",
       "</style>\n",
       "<table border=\"1\" class=\"dataframe\">\n",
       "  <thead>\n",
       "    <tr style=\"text-align: right;\">\n",
       "      <th></th>\n",
       "      <th>value</th>\n",
       "    </tr>\n",
       "    <tr>\n",
       "      <th>year</th>\n",
       "      <th></th>\n",
       "    </tr>\n",
       "  </thead>\n",
       "  <tbody>\n",
       "    <tr>\n",
       "      <th>2008</th>\n",
       "      <td>738641</td>\n",
       "    </tr>\n",
       "    <tr>\n",
       "      <th>2009</th>\n",
       "      <td>717214</td>\n",
       "    </tr>\n",
       "    <tr>\n",
       "      <th>2010</th>\n",
       "      <td>715324</td>\n",
       "    </tr>\n",
       "    <tr>\n",
       "      <th>2011</th>\n",
       "      <td>724915</td>\n",
       "    </tr>\n",
       "    <tr>\n",
       "      <th>2012</th>\n",
       "      <td>737329</td>\n",
       "    </tr>\n",
       "    <tr>\n",
       "      <th>2013</th>\n",
       "      <td>686407</td>\n",
       "    </tr>\n",
       "    <tr>\n",
       "      <th>2014</th>\n",
       "      <td>680183</td>\n",
       "    </tr>\n",
       "    <tr>\n",
       "      <th>2015</th>\n",
       "      <td>711624</td>\n",
       "    </tr>\n",
       "    <tr>\n",
       "      <th>2016</th>\n",
       "      <td>736121</td>\n",
       "    </tr>\n",
       "  </tbody>\n",
       "</table>\n",
       "</div>"
      ],
      "text/plain": [
       "       value\n",
       "year        \n",
       "2008  738641\n",
       "2009  717214\n",
       "2010  715324\n",
       "2011  724915\n",
       "2012  737329\n",
       "2013  686407\n",
       "2014  680183\n",
       "2015  711624\n",
       "2016  736121"
      ]
     },
     "execution_count": 17,
     "metadata": {},
     "output_type": "execute_result"
    }
   ],
   "source": [
    "df2.groupby(['year']).sum() # groupby year to find the total value of crimes per year"
   ]
  },
  {
   "cell_type": "markdown",
   "metadata": {},
   "source": [
    "This is the total value of crimes per year"
   ]
  },
  {
   "cell_type": "markdown",
   "metadata": {},
   "source": [
    "# Data 2008"
   ]
  },
  {
   "cell_type": "code",
   "execution_count": 23,
   "metadata": {},
   "outputs": [],
   "source": [
    "df_2008 = df2[df2.year==2008]"
   ]
  },
  {
   "cell_type": "code",
   "execution_count": 24,
   "metadata": {},
   "outputs": [],
   "source": [
    "#df_2008.groupby(['borough','major_category']).sum().drop(['year'],axis=1)"
   ]
  },
  {
   "cell_type": "code",
   "execution_count": 25,
   "metadata": {},
   "outputs": [
    {
     "data": {
      "text/html": [
       "<div>\n",
       "<style scoped>\n",
       "    .dataframe tbody tr th:only-of-type {\n",
       "        vertical-align: middle;\n",
       "    }\n",
       "\n",
       "    .dataframe tbody tr th {\n",
       "        vertical-align: top;\n",
       "    }\n",
       "\n",
       "    .dataframe thead th {\n",
       "        text-align: right;\n",
       "    }\n",
       "</style>\n",
       "<table border=\"1\" class=\"dataframe\">\n",
       "  <thead>\n",
       "    <tr style=\"text-align: right;\">\n",
       "      <th></th>\n",
       "      <th></th>\n",
       "      <th>value</th>\n",
       "    </tr>\n",
       "    <tr>\n",
       "      <th>borough</th>\n",
       "      <th>major_category</th>\n",
       "      <th></th>\n",
       "    </tr>\n",
       "  </thead>\n",
       "  <tbody>\n",
       "    <tr>\n",
       "      <th rowspan=\"9\" valign=\"top\">Barking and Dagenham</th>\n",
       "      <th>Burglary</th>\n",
       "      <td>1764</td>\n",
       "    </tr>\n",
       "    <tr>\n",
       "      <th>Criminal Damage</th>\n",
       "      <td>2934</td>\n",
       "    </tr>\n",
       "    <tr>\n",
       "      <th>Drugs</th>\n",
       "      <td>1467</td>\n",
       "    </tr>\n",
       "    <tr>\n",
       "      <th>Fraud or Forgery</th>\n",
       "      <td>205</td>\n",
       "    </tr>\n",
       "    <tr>\n",
       "      <th>Other Notifiable Offences</th>\n",
       "      <td>253</td>\n",
       "    </tr>\n",
       "    <tr>\n",
       "      <th>Robbery</th>\n",
       "      <td>635</td>\n",
       "    </tr>\n",
       "    <tr>\n",
       "      <th>Sexual Offences</th>\n",
       "      <td>49</td>\n",
       "    </tr>\n",
       "    <tr>\n",
       "      <th>Theft and Handling</th>\n",
       "      <td>5354</td>\n",
       "    </tr>\n",
       "    <tr>\n",
       "      <th>Violence Against the Person</th>\n",
       "      <td>4995</td>\n",
       "    </tr>\n",
       "    <tr>\n",
       "      <th rowspan=\"9\" valign=\"top\">Barnet</th>\n",
       "      <th>Burglary</th>\n",
       "      <td>3750</td>\n",
       "    </tr>\n",
       "    <tr>\n",
       "      <th>Criminal Damage</th>\n",
       "      <td>2918</td>\n",
       "    </tr>\n",
       "    <tr>\n",
       "      <th>Drugs</th>\n",
       "      <td>1264</td>\n",
       "    </tr>\n",
       "    <tr>\n",
       "      <th>Fraud or Forgery</th>\n",
       "      <td>175</td>\n",
       "    </tr>\n",
       "    <tr>\n",
       "      <th>Other Notifiable Offences</th>\n",
       "      <td>297</td>\n",
       "    </tr>\n",
       "    <tr>\n",
       "      <th>Robbery</th>\n",
       "      <td>794</td>\n",
       "    </tr>\n",
       "    <tr>\n",
       "      <th>Sexual Offences</th>\n",
       "      <td>38</td>\n",
       "    </tr>\n",
       "    <tr>\n",
       "      <th>Theft and Handling</th>\n",
       "      <td>9872</td>\n",
       "    </tr>\n",
       "    <tr>\n",
       "      <th>Violence Against the Person</th>\n",
       "      <td>4836</td>\n",
       "    </tr>\n",
       "    <tr>\n",
       "      <th rowspan=\"9\" valign=\"top\">Bexley</th>\n",
       "      <th>Burglary</th>\n",
       "      <td>2284</td>\n",
       "    </tr>\n",
       "    <tr>\n",
       "      <th>Criminal Damage</th>\n",
       "      <td>2893</td>\n",
       "    </tr>\n",
       "    <tr>\n",
       "      <th>Drugs</th>\n",
       "      <td>996</td>\n",
       "    </tr>\n",
       "    <tr>\n",
       "      <th>Fraud or Forgery</th>\n",
       "      <td>106</td>\n",
       "    </tr>\n",
       "    <tr>\n",
       "      <th>Other Notifiable Offences</th>\n",
       "      <td>148</td>\n",
       "    </tr>\n",
       "    <tr>\n",
       "      <th>Robbery</th>\n",
       "      <td>349</td>\n",
       "    </tr>\n",
       "    <tr>\n",
       "      <th>Sexual Offences</th>\n",
       "      <td>22</td>\n",
       "    </tr>\n",
       "    <tr>\n",
       "      <th>Theft and Handling</th>\n",
       "      <td>5236</td>\n",
       "    </tr>\n",
       "    <tr>\n",
       "      <th>Violence Against the Person</th>\n",
       "      <td>3271</td>\n",
       "    </tr>\n",
       "    <tr>\n",
       "      <th rowspan=\"3\" valign=\"top\">Brent</th>\n",
       "      <th>Burglary</th>\n",
       "      <td>3266</td>\n",
       "    </tr>\n",
       "    <tr>\n",
       "      <th>Criminal Damage</th>\n",
       "      <td>2504</td>\n",
       "    </tr>\n",
       "    <tr>\n",
       "      <th>Drugs</th>\n",
       "      <td>2813</td>\n",
       "    </tr>\n",
       "    <tr>\n",
       "      <th>...</th>\n",
       "      <th>...</th>\n",
       "      <td>...</td>\n",
       "    </tr>\n",
       "    <tr>\n",
       "      <th rowspan=\"3\" valign=\"top\">Tower Hamlets</th>\n",
       "      <th>Sexual Offences</th>\n",
       "      <td>47</td>\n",
       "    </tr>\n",
       "    <tr>\n",
       "      <th>Theft and Handling</th>\n",
       "      <td>8847</td>\n",
       "    </tr>\n",
       "    <tr>\n",
       "      <th>Violence Against the Person</th>\n",
       "      <td>5423</td>\n",
       "    </tr>\n",
       "    <tr>\n",
       "      <th rowspan=\"9\" valign=\"top\">Waltham Forest</th>\n",
       "      <th>Burglary</th>\n",
       "      <td>3174</td>\n",
       "    </tr>\n",
       "    <tr>\n",
       "      <th>Criminal Damage</th>\n",
       "      <td>3160</td>\n",
       "    </tr>\n",
       "    <tr>\n",
       "      <th>Drugs</th>\n",
       "      <td>2165</td>\n",
       "    </tr>\n",
       "    <tr>\n",
       "      <th>Fraud or Forgery</th>\n",
       "      <td>236</td>\n",
       "    </tr>\n",
       "    <tr>\n",
       "      <th>Other Notifiable Offences</th>\n",
       "      <td>277</td>\n",
       "    </tr>\n",
       "    <tr>\n",
       "      <th>Robbery</th>\n",
       "      <td>1414</td>\n",
       "    </tr>\n",
       "    <tr>\n",
       "      <th>Sexual Offences</th>\n",
       "      <td>34</td>\n",
       "    </tr>\n",
       "    <tr>\n",
       "      <th>Theft and Handling</th>\n",
       "      <td>8253</td>\n",
       "    </tr>\n",
       "    <tr>\n",
       "      <th>Violence Against the Person</th>\n",
       "      <td>5367</td>\n",
       "    </tr>\n",
       "    <tr>\n",
       "      <th rowspan=\"9\" valign=\"top\">Wandsworth</th>\n",
       "      <th>Burglary</th>\n",
       "      <td>2821</td>\n",
       "    </tr>\n",
       "    <tr>\n",
       "      <th>Criminal Damage</th>\n",
       "      <td>2857</td>\n",
       "    </tr>\n",
       "    <tr>\n",
       "      <th>Drugs</th>\n",
       "      <td>1281</td>\n",
       "    </tr>\n",
       "    <tr>\n",
       "      <th>Fraud or Forgery</th>\n",
       "      <td>161</td>\n",
       "    </tr>\n",
       "    <tr>\n",
       "      <th>Other Notifiable Offences</th>\n",
       "      <td>280</td>\n",
       "    </tr>\n",
       "    <tr>\n",
       "      <th>Robbery</th>\n",
       "      <td>1030</td>\n",
       "    </tr>\n",
       "    <tr>\n",
       "      <th>Sexual Offences</th>\n",
       "      <td>47</td>\n",
       "    </tr>\n",
       "    <tr>\n",
       "      <th>Theft and Handling</th>\n",
       "      <td>10033</td>\n",
       "    </tr>\n",
       "    <tr>\n",
       "      <th>Violence Against the Person</th>\n",
       "      <td>4820</td>\n",
       "    </tr>\n",
       "    <tr>\n",
       "      <th rowspan=\"9\" valign=\"top\">Westminster</th>\n",
       "      <th>Burglary</th>\n",
       "      <td>2962</td>\n",
       "    </tr>\n",
       "    <tr>\n",
       "      <th>Criminal Damage</th>\n",
       "      <td>2599</td>\n",
       "    </tr>\n",
       "    <tr>\n",
       "      <th>Drugs</th>\n",
       "      <td>4075</td>\n",
       "    </tr>\n",
       "    <tr>\n",
       "      <th>Fraud or Forgery</th>\n",
       "      <td>273</td>\n",
       "    </tr>\n",
       "    <tr>\n",
       "      <th>Other Notifiable Offences</th>\n",
       "      <td>588</td>\n",
       "    </tr>\n",
       "    <tr>\n",
       "      <th>Robbery</th>\n",
       "      <td>1327</td>\n",
       "    </tr>\n",
       "    <tr>\n",
       "      <th>Sexual Offences</th>\n",
       "      <td>59</td>\n",
       "    </tr>\n",
       "    <tr>\n",
       "      <th>Theft and Handling</th>\n",
       "      <td>29266</td>\n",
       "    </tr>\n",
       "    <tr>\n",
       "      <th>Violence Against the Person</th>\n",
       "      <td>6697</td>\n",
       "    </tr>\n",
       "  </tbody>\n",
       "</table>\n",
       "<p>288 rows × 1 columns</p>\n",
       "</div>"
      ],
      "text/plain": [
       "                                                  value\n",
       "borough              major_category                    \n",
       "Barking and Dagenham Burglary                      1764\n",
       "                     Criminal Damage               2934\n",
       "                     Drugs                         1467\n",
       "                     Fraud or Forgery               205\n",
       "                     Other Notifiable Offences      253\n",
       "                     Robbery                        635\n",
       "                     Sexual Offences                 49\n",
       "                     Theft and Handling            5354\n",
       "                     Violence Against the Person   4995\n",
       "Barnet               Burglary                      3750\n",
       "                     Criminal Damage               2918\n",
       "                     Drugs                         1264\n",
       "                     Fraud or Forgery               175\n",
       "                     Other Notifiable Offences      297\n",
       "                     Robbery                        794\n",
       "                     Sexual Offences                 38\n",
       "                     Theft and Handling            9872\n",
       "                     Violence Against the Person   4836\n",
       "Bexley               Burglary                      2284\n",
       "                     Criminal Damage               2893\n",
       "                     Drugs                          996\n",
       "                     Fraud or Forgery               106\n",
       "                     Other Notifiable Offences      148\n",
       "                     Robbery                        349\n",
       "                     Sexual Offences                 22\n",
       "                     Theft and Handling            5236\n",
       "                     Violence Against the Person   3271\n",
       "Brent                Burglary                      3266\n",
       "                     Criminal Damage               2504\n",
       "                     Drugs                         2813\n",
       "...                                                 ...\n",
       "Tower Hamlets        Sexual Offences                 47\n",
       "                     Theft and Handling            8847\n",
       "                     Violence Against the Person   5423\n",
       "Waltham Forest       Burglary                      3174\n",
       "                     Criminal Damage               3160\n",
       "                     Drugs                         2165\n",
       "                     Fraud or Forgery               236\n",
       "                     Other Notifiable Offences      277\n",
       "                     Robbery                       1414\n",
       "                     Sexual Offences                 34\n",
       "                     Theft and Handling            8253\n",
       "                     Violence Against the Person   5367\n",
       "Wandsworth           Burglary                      2821\n",
       "                     Criminal Damage               2857\n",
       "                     Drugs                         1281\n",
       "                     Fraud or Forgery               161\n",
       "                     Other Notifiable Offences      280\n",
       "                     Robbery                       1030\n",
       "                     Sexual Offences                 47\n",
       "                     Theft and Handling           10033\n",
       "                     Violence Against the Person   4820\n",
       "Westminster          Burglary                      2962\n",
       "                     Criminal Damage               2599\n",
       "                     Drugs                         4075\n",
       "                     Fraud or Forgery               273\n",
       "                     Other Notifiable Offences      588\n",
       "                     Robbery                       1327\n",
       "                     Sexual Offences                 59\n",
       "                     Theft and Handling           29266\n",
       "                     Violence Against the Person   6697\n",
       "\n",
       "[288 rows x 1 columns]"
      ]
     },
     "execution_count": 25,
     "metadata": {},
     "output_type": "execute_result"
    }
   ],
   "source": [
    "df_2008.groupby(['borough','major_category']).sum().drop(['year'],axis=1)"
   ]
  },
  {
   "cell_type": "markdown",
   "metadata": {},
   "source": [
    "Number of crimes per category and per borough in 2008"
   ]
  },
  {
   "cell_type": "code",
   "execution_count": null,
   "metadata": {},
   "outputs": [],
   "source": []
  },
  {
   "cell_type": "code",
   "execution_count": 26,
   "metadata": {},
   "outputs": [],
   "source": [
    "a = df_2008.groupby(['borough']).sum().drop(['year'],axis=1)"
   ]
  },
  {
   "cell_type": "markdown",
   "metadata": {},
   "source": [
    "Number of crimes per borough in 2008\n"
   ]
  },
  {
   "cell_type": "markdown",
   "metadata": {},
   "source": [
    "# Data 2009"
   ]
  },
  {
   "cell_type": "code",
   "execution_count": 27,
   "metadata": {},
   "outputs": [],
   "source": [
    "df_2009 = df2[df2.year==2009]"
   ]
  },
  {
   "cell_type": "code",
   "execution_count": 28,
   "metadata": {},
   "outputs": [],
   "source": [
    "#df_2009.groupby(['borough','major_category']).sum().drop(['year'],axis=1)"
   ]
  },
  {
   "cell_type": "markdown",
   "metadata": {},
   "source": [
    "Number of crimes per category and per borough in 2009"
   ]
  },
  {
   "cell_type": "code",
   "execution_count": null,
   "metadata": {},
   "outputs": [],
   "source": []
  },
  {
   "cell_type": "code",
   "execution_count": 29,
   "metadata": {},
   "outputs": [],
   "source": [
    "b = df_2009.groupby(['borough']).sum().drop(['year'],axis=1)"
   ]
  },
  {
   "cell_type": "markdown",
   "metadata": {},
   "source": [
    "Number of crimes per borough in 2009"
   ]
  },
  {
   "cell_type": "markdown",
   "metadata": {},
   "source": [
    "# Data 2010"
   ]
  },
  {
   "cell_type": "code",
   "execution_count": 30,
   "metadata": {},
   "outputs": [],
   "source": [
    "df_2010 = df2[df2.year==2010]"
   ]
  },
  {
   "cell_type": "code",
   "execution_count": 31,
   "metadata": {},
   "outputs": [],
   "source": [
    "#df_2010.groupby(['borough','major_category']).sum().drop(['year'],axis=1)"
   ]
  },
  {
   "cell_type": "markdown",
   "metadata": {},
   "source": [
    "Number of crimes per category and per borough in 2010"
   ]
  },
  {
   "cell_type": "code",
   "execution_count": null,
   "metadata": {},
   "outputs": [],
   "source": []
  },
  {
   "cell_type": "code",
   "execution_count": 32,
   "metadata": {},
   "outputs": [],
   "source": [
    "c = df_2010.groupby(['borough']).sum().drop(['year'],axis=1)"
   ]
  },
  {
   "cell_type": "markdown",
   "metadata": {},
   "source": [
    "Number of crimes per borough in 2010"
   ]
  },
  {
   "cell_type": "code",
   "execution_count": null,
   "metadata": {},
   "outputs": [],
   "source": []
  },
  {
   "cell_type": "markdown",
   "metadata": {},
   "source": [
    "# Data 2011"
   ]
  },
  {
   "cell_type": "code",
   "execution_count": 33,
   "metadata": {},
   "outputs": [],
   "source": [
    "df_2011 = df2[df2.year==2011]"
   ]
  },
  {
   "cell_type": "code",
   "execution_count": 34,
   "metadata": {},
   "outputs": [],
   "source": [
    "#df_2011.groupby(['borough','major_category']).sum().drop(['year'],axis=1)"
   ]
  },
  {
   "cell_type": "markdown",
   "metadata": {},
   "source": [
    "Number of crimes per category and per borough in 2011"
   ]
  },
  {
   "cell_type": "code",
   "execution_count": null,
   "metadata": {},
   "outputs": [],
   "source": []
  },
  {
   "cell_type": "code",
   "execution_count": 35,
   "metadata": {},
   "outputs": [],
   "source": [
    "d = df_2011.groupby(['borough']).sum().drop(['year'],axis=1)"
   ]
  },
  {
   "cell_type": "markdown",
   "metadata": {},
   "source": [
    "Number of crimes per borough in 2011"
   ]
  },
  {
   "cell_type": "code",
   "execution_count": null,
   "metadata": {},
   "outputs": [],
   "source": []
  },
  {
   "cell_type": "markdown",
   "metadata": {},
   "source": [
    "# Data 2012"
   ]
  },
  {
   "cell_type": "code",
   "execution_count": 36,
   "metadata": {},
   "outputs": [],
   "source": [
    "df_2012 = df2[df2.year==2012]"
   ]
  },
  {
   "cell_type": "code",
   "execution_count": 37,
   "metadata": {},
   "outputs": [],
   "source": [
    "#df_2012.groupby(['borough','major_category']).sum().drop(['year'],axis=1)"
   ]
  },
  {
   "cell_type": "markdown",
   "metadata": {},
   "source": [
    "Number of crimes per category and per borough in 2012"
   ]
  },
  {
   "cell_type": "code",
   "execution_count": null,
   "metadata": {},
   "outputs": [],
   "source": []
  },
  {
   "cell_type": "code",
   "execution_count": 38,
   "metadata": {},
   "outputs": [],
   "source": [
    "e = df_2012.groupby(['borough']).sum().drop(['year'],axis=1)"
   ]
  },
  {
   "cell_type": "markdown",
   "metadata": {},
   "source": [
    "Number of crimes per borough in 2012"
   ]
  },
  {
   "cell_type": "code",
   "execution_count": null,
   "metadata": {},
   "outputs": [],
   "source": []
  },
  {
   "cell_type": "markdown",
   "metadata": {},
   "source": [
    "# Data 2013"
   ]
  },
  {
   "cell_type": "code",
   "execution_count": 39,
   "metadata": {},
   "outputs": [],
   "source": [
    "df_2013 = df2[df2.year==2013]"
   ]
  },
  {
   "cell_type": "code",
   "execution_count": 40,
   "metadata": {},
   "outputs": [],
   "source": [
    "#df_2013.groupby(['borough','major_category']).sum().drop(['year'],axis=1)"
   ]
  },
  {
   "cell_type": "markdown",
   "metadata": {},
   "source": [
    "Number of crimes per category and per borough in 2013"
   ]
  },
  {
   "cell_type": "code",
   "execution_count": null,
   "metadata": {},
   "outputs": [],
   "source": []
  },
  {
   "cell_type": "code",
   "execution_count": 41,
   "metadata": {},
   "outputs": [],
   "source": [
    "f = df_2013.groupby(['borough']).sum().drop(['year'],axis=1)"
   ]
  },
  {
   "cell_type": "markdown",
   "metadata": {},
   "source": [
    "Number of crimes per borough in 2013"
   ]
  },
  {
   "cell_type": "code",
   "execution_count": null,
   "metadata": {},
   "outputs": [],
   "source": []
  },
  {
   "cell_type": "markdown",
   "metadata": {},
   "source": [
    "# Data 2014"
   ]
  },
  {
   "cell_type": "code",
   "execution_count": 42,
   "metadata": {},
   "outputs": [],
   "source": [
    "df_2014 = df2[df2.year==2014]"
   ]
  },
  {
   "cell_type": "code",
   "execution_count": 43,
   "metadata": {},
   "outputs": [],
   "source": [
    "#df_2014.groupby(['borough','major_category']).sum().drop(['year'],axis=1)"
   ]
  },
  {
   "cell_type": "markdown",
   "metadata": {},
   "source": [
    "Number of crimes per category and per borough in 2014"
   ]
  },
  {
   "cell_type": "code",
   "execution_count": null,
   "metadata": {},
   "outputs": [],
   "source": []
  },
  {
   "cell_type": "code",
   "execution_count": 44,
   "metadata": {},
   "outputs": [],
   "source": [
    "g = df_2014.groupby(['borough']).sum().drop(['year'],axis=1)"
   ]
  },
  {
   "cell_type": "markdown",
   "metadata": {},
   "source": [
    "Number of crimes per borough in 2014"
   ]
  },
  {
   "cell_type": "code",
   "execution_count": null,
   "metadata": {},
   "outputs": [],
   "source": []
  },
  {
   "cell_type": "markdown",
   "metadata": {},
   "source": [
    "# Data 2015"
   ]
  },
  {
   "cell_type": "code",
   "execution_count": 45,
   "metadata": {},
   "outputs": [],
   "source": [
    "df_2015 = df2[df2.year==2015]"
   ]
  },
  {
   "cell_type": "code",
   "execution_count": 46,
   "metadata": {},
   "outputs": [],
   "source": [
    "#df_2015.groupby(['borough','major_category']).sum().drop(['year'],axis=1)"
   ]
  },
  {
   "cell_type": "markdown",
   "metadata": {},
   "source": [
    "Number of crimes per category and per borough in 2015"
   ]
  },
  {
   "cell_type": "code",
   "execution_count": null,
   "metadata": {},
   "outputs": [],
   "source": []
  },
  {
   "cell_type": "code",
   "execution_count": 47,
   "metadata": {},
   "outputs": [],
   "source": [
    "h = df_2015.groupby(['borough']).sum().drop(['year'],axis=1)"
   ]
  },
  {
   "cell_type": "markdown",
   "metadata": {},
   "source": [
    "Number of crimes per borough in 2015"
   ]
  },
  {
   "cell_type": "code",
   "execution_count": null,
   "metadata": {},
   "outputs": [],
   "source": []
  },
  {
   "cell_type": "markdown",
   "metadata": {},
   "source": [
    "# Data 2016"
   ]
  },
  {
   "cell_type": "code",
   "execution_count": 48,
   "metadata": {},
   "outputs": [],
   "source": [
    "df_2016 = df2[df2.year==2016]"
   ]
  },
  {
   "cell_type": "code",
   "execution_count": 49,
   "metadata": {},
   "outputs": [],
   "source": [
    "#df_2016.groupby(['borough','major_category']).sum().drop(['year'],axis=1)"
   ]
  },
  {
   "cell_type": "markdown",
   "metadata": {},
   "source": [
    "Number of crimes per category and per borough in 2016"
   ]
  },
  {
   "cell_type": "code",
   "execution_count": null,
   "metadata": {},
   "outputs": [],
   "source": []
  },
  {
   "cell_type": "code",
   "execution_count": 50,
   "metadata": {},
   "outputs": [],
   "source": [
    "i = df_2016.groupby(['borough']).sum().drop(['year'],axis=1)"
   ]
  },
  {
   "cell_type": "markdown",
   "metadata": {},
   "source": [
    "Number of crimes per borough in 2016"
   ]
  },
  {
   "cell_type": "markdown",
   "metadata": {},
   "source": [
    "# Poubelle"
   ]
  },
  {
   "cell_type": "code",
   "execution_count": 51,
   "metadata": {},
   "outputs": [],
   "source": [
    "merged = a.merge(b, on='borough', suffixes=('2008', '2009'))"
   ]
  },
  {
   "cell_type": "code",
   "execution_count": 52,
   "metadata": {},
   "outputs": [],
   "source": [
    "merged = merged.merge(c, on='borough', suffixes=('2010', '2011'))"
   ]
  },
  {
   "cell_type": "code",
   "execution_count": null,
   "metadata": {},
   "outputs": [],
   "source": []
  },
  {
   "cell_type": "code",
   "execution_count": 53,
   "metadata": {},
   "outputs": [],
   "source": [
    "dataframes = [(2010, c), (2011, d), (2012, e), (2013, f) , (2014, g) , (2015, h) , (2016, i)]\n",
    "\n",
    "for j, i in dataframes:\n",
    "    merged = merged.merge(i, on='borough', suffixes=(str(j), '2010'))\n",
    "\n"
   ]
  },
  {
   "cell_type": "code",
   "execution_count": null,
   "metadata": {},
   "outputs": [],
   "source": []
  },
  {
   "cell_type": "code",
   "execution_count": null,
   "metadata": {},
   "outputs": [],
   "source": []
  },
  {
   "cell_type": "code",
   "execution_count": null,
   "metadata": {},
   "outputs": [],
   "source": []
  }
 ],
 "metadata": {
  "kernelspec": {
   "display_name": "Python 3",
   "language": "python",
   "name": "python3"
  },
  "language_info": {
   "codemirror_mode": {
    "name": "ipython",
    "version": 3
   },
   "file_extension": ".py",
   "mimetype": "text/x-python",
   "name": "python",
   "nbconvert_exporter": "python",
   "pygments_lexer": "ipython3",
   "version": "3.7.3"
  }
 },
 "nbformat": 4,
 "nbformat_minor": 2
}
